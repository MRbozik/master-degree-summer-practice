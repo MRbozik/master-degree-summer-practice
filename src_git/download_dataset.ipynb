{
 "cells": [
  {
   "cell_type": "code",
   "execution_count": null,
   "id": "d407e446",
   "metadata": {},
   "outputs": [],
   "source": [
    "import os\n",
    "import requests\n",
    "import zipfile\n",
    "import io\n",
    "\n",
    "def download_and_extract_zip(\n",
    "    url=\"https://github.com/spMohanty/PlantVillage-Dataset/archive/refs/heads/master.zip\",\n",
    "    extract_to=\"data/plantvillage/raw\"):\n",
    "\n",
    "    # Створюємо директорію для чистого завантаження\n",
    "    os.makedirs(extract_to, exist_ok=True)\n",
    "    \n",
    "    print(f\"🔽 Завантаження архіву з {url} ...\")\n",
    "    r = requests.get(url)\n",
    "    r.raise_for_status()\n",
    "    \n",
    "    print(\"📂 Розпаковка архіву ...\")\n",
    "    with zipfile.ZipFile(io.BytesIO(r.content)) as z:\n",
    "        z.extractall(extract_to)\n",
    "    \n",
    "    # Папка в архіві має вигляд PlantVillage-Dataset-master\n",
    "    src = os.path.join(extract_to, \"PlantVillage-Dataset-master\")\n",
    "    dst = os.path.join(extract_to, \"color\")\n",
    "    os.rename(src, dst)\n",
    "    print(f\"✅ Датасет розпаковано в '{dst}'\")\n",
    "\n",
    "if __name__ == \"__main__\":\n",
    "    download_and_extract_zip()\n"
   ]
  }
 ],
 "metadata": {
  "kernelspec": {
   "display_name": "venv",
   "language": "python",
   "name": "python3"
  },
  "language_info": {
   "codemirror_mode": {
    "name": "ipython",
    "version": 3
   },
   "file_extension": ".py",
   "mimetype": "text/x-python",
   "name": "python",
   "nbconvert_exporter": "python",
   "pygments_lexer": "ipython3",
   "version": "3.11.9"
  }
 },
 "nbformat": 4,
 "nbformat_minor": 5
}
