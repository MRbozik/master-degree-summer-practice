{
 "cells": [
  {
   "cell_type": "code",
   "execution_count": 2,
   "id": "d407e446",
   "metadata": {},
   "outputs": [
    {
     "ename": "KeyboardInterrupt",
     "evalue": "",
     "output_type": "error",
     "traceback": [
      "\u001b[31m---------------------------------------------------------------------------\u001b[39m",
      "\u001b[31mKeyboardInterrupt\u001b[39m                         Traceback (most recent call last)",
      "\u001b[36mCell\u001b[39m\u001b[36m \u001b[39m\u001b[32mIn[2]\u001b[39m\u001b[32m, line 18\u001b[39m\n\u001b[32m     15\u001b[39m out_cls.mkdir(exist_ok=\u001b[38;5;28;01mTrue\u001b[39;00m)\n\u001b[32m     17\u001b[39m \u001b[38;5;28;01mfor\u001b[39;00m img_file \u001b[38;5;129;01min\u001b[39;00m \u001b[38;5;28mcls\u001b[39m.glob(\u001b[33m\"\u001b[39m\u001b[33m*.*\u001b[39m\u001b[33m\"\u001b[39m):\n\u001b[32m---> \u001b[39m\u001b[32m18\u001b[39m     img = \u001b[43mcv2\u001b[49m\u001b[43m.\u001b[49m\u001b[43mimread\u001b[49m\u001b[43m(\u001b[49m\u001b[38;5;28;43mstr\u001b[39;49m\u001b[43m(\u001b[49m\u001b[43mimg_file\u001b[49m\u001b[43m)\u001b[49m\u001b[43m)\u001b[49m\n\u001b[32m     19\u001b[39m     \u001b[38;5;66;03m# 1. Пропускаємо пошкоджені\u001b[39;00m\n\u001b[32m     20\u001b[39m     \u001b[38;5;28;01mif\u001b[39;00m img \u001b[38;5;129;01mis\u001b[39;00m \u001b[38;5;28;01mNone\u001b[39;00m:\n",
      "\u001b[31mKeyboardInterrupt\u001b[39m: "
     ]
    }
   ],
   "source": [
    "import os\n",
    "from pathlib import Path\n",
    "import cv2\n",
    "\n",
    "RAW_DIR       = Path(\"../../data/plantvillage/raw/color\")\n",
    "PROCESSED_DIR = Path(\"../../data/processed/color\")\n",
    "TARGET_SIZE   = (224, 224)\n",
    "\n",
    "PROCESSED_DIR.mkdir(parents=True, exist_ok=True)\n",
    "\n",
    "for cls in RAW_DIR.iterdir():\n",
    "    if not cls.is_dir(): \n",
    "        continue\n",
    "    out_cls = PROCESSED_DIR / cls.name\n",
    "    out_cls.mkdir(exist_ok=True)\n",
    "    \n",
    "    for img_file in cls.glob(\"*.*\"):\n",
    "        img = cv2.imread(str(img_file))\n",
    "        # 1. Пропускаємо пошкоджені\n",
    "        if img is None:\n",
    "            print(f\"⚠️  Пропущено: {img_file}\")\n",
    "            continue\n",
    "        \n",
    "        # 2. Медіанний фільтр\n",
    "        img = cv2.medianBlur(img, 3)\n",
    "        \n",
    "        # 3. BGR → RGB\n",
    "        img = cv2.cvtColor(img, cv2.COLOR_BGR2RGB)\n",
    "        \n",
    "        # 4. Зміна розміру\n",
    "        img = cv2.resize(img, TARGET_SIZE, interpolation=cv2.INTER_AREA)\n",
    "        \n",
    "        # 5. Нормалізація [0..1]\n",
    "        img = img.astype(\"float32\") / 255.0\n",
    "        \n",
    "        # Переводимо назад у uint8 для збереження (за потреби)\n",
    "        save = (img * 255).astype(\"uint8\")\n",
    "        save = cv2.cvtColor(save, cv2.COLOR_RGB2BGR)\n",
    "        \n",
    "        cv2.imwrite(str(out_cls / img_file.name), save)\n"
   ]
  },
  {
   "cell_type": "code",
   "execution_count": null,
   "id": "0421a685",
   "metadata": {},
   "outputs": [],
   "source": []
  }
 ],
 "metadata": {
  "kernelspec": {
   "display_name": "venv",
   "language": "python",
   "name": "python3"
  },
  "language_info": {
   "codemirror_mode": {
    "name": "ipython",
    "version": 3
   },
   "file_extension": ".py",
   "mimetype": "text/x-python",
   "name": "python",
   "nbconvert_exporter": "python",
   "pygments_lexer": "ipython3",
   "version": "3.11.9"
  }
 },
 "nbformat": 4,
 "nbformat_minor": 5
}
