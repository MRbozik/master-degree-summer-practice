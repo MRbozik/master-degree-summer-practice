{
 "cells": [
  {
   "cell_type": "code",
   "execution_count": null,
   "id": "d407e446",
   "metadata": {},
   "outputs": [],
   "source": [
    "from pathlib import Path\n",
    "import cv2\n",
    "import numpy as np\n",
    "from tensorflow.keras.preprocessing.image import ImageDataGenerator\n",
    "\n",
    "# Налаштування аугментацій\n",
    "datagen = ImageDataGenerator(\n",
    "    rotation_range=20,\n",
    "    width_shift_range=0.1,\n",
    "    height_shift_range=0.1,\n",
    "    zoom_range=0.1,\n",
    "    brightness_range=(0.8, 1.2),\n",
    "    shear_range=0.1,\n",
    "    horizontal_flip=True,\n",
    "    fill_mode='reflect'\n",
    ")\n",
    "\n",
    "# Типи оброблених даних\n",
    "types = [\"color\", \"grayscale\", \"segmented\"]\n",
    "\n",
    "for t in types:\n",
    "    input_root  = Path(\"../../data/processed\") / t\n",
    "    output_root = Path(\"../../data/augmented\") / t\n",
    "\n",
    "    for cls_dir in input_root.iterdir():\n",
    "        if not cls_dir.is_dir():\n",
    "            continue\n",
    "\n",
    "        out_cls_dir = output_root / cls_dir.name\n",
    "        out_cls_dir.mkdir(parents=True, exist_ok=True)\n",
    "\n",
    "        # Проходимо всі зображення даного класу\n",
    "        for img_path in cls_dir.glob(\"*.*\"):\n",
    "            img = cv2.imread(str(img_path), cv2.IMREAD_UNCHANGED)\n",
    "            if img is None:\n",
    "                continue\n",
    "\n",
    "            # Якщо grayscale — перетворимо в трьохканальне RGB\n",
    "            if img.ndim == 2:\n",
    "                img = cv2.cvtColor(img, cv2.COLOR_GRAY2RGB)\n",
    "            else:\n",
    "                img = cv2.cvtColor(img, cv2.COLOR_BGR2RGB)\n",
    "\n",
    "            # Готуємо батч розміром 1\n",
    "            batch = img.reshape((1, *img.shape))\n",
    "\n",
    "            # Генеруємо по 5 аугментованих варіантів\n",
    "            i = 0\n",
    "            for aug in datagen.flow(batch, batch_size=1,\n",
    "                                     save_to_dir=str(out_cls_dir),\n",
    "                                     save_prefix=\"aug\", save_format=\"png\"):\n",
    "                i += 1\n",
    "                if i >= 5:\n",
    "                    break\n",
    "\n",
    "print(\"✅ Аугментації створені для всіх типів і класів.\")\n"
   ]
  },
  {
   "cell_type": "code",
   "execution_count": null,
   "id": "0421a685",
   "metadata": {},
   "outputs": [],
   "source": []
  }
 ],
 "metadata": {
  "kernelspec": {
   "display_name": "venv",
   "language": "python",
   "name": "python3"
  },
  "language_info": {
   "codemirror_mode": {
    "name": "ipython",
    "version": 3
   },
   "file_extension": ".py",
   "mimetype": "text/x-python",
   "name": "python",
   "nbconvert_exporter": "python",
   "pygments_lexer": "ipython3",
   "version": "3.11.9"
  }
 },
 "nbformat": 4,
 "nbformat_minor": 5
}
