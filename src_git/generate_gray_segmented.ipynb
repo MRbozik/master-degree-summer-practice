{
 "cells": [
  {
   "cell_type": "markdown",
   "id": "bdefb993",
   "metadata": {},
   "source": [
    "Завантажує кольорові зображення з raw/color/ і для кожного генерує:\n",
    "\n",
    "1.Відтінки сірого (grayscale/)\n",
    "\n",
    "2.Сегментацію (Otsu-бінаризація + контури → segmented/)\n"
   ]
  },
  {
   "cell_type": "code",
   "execution_count": null,
   "id": "d407e446",
   "metadata": {},
   "outputs": [],
   "source": [
    "import cv2\n",
    "import numpy as np\n",
    "from pathlib import Path\n",
    "from tqdm import tqdm\n",
    "\n",
    "RAW_ROOT = Path(\"data/plantvillage/raw\")\n",
    "COLOR_DIR = RAW_ROOT / \"color\"\n",
    "GRAY_DIR  = RAW_ROOT / \"grayscale\"\n",
    "SEG_DIR   = RAW_ROOT / \"segmented\"\n",
    "\n",
    "def generate_gray_and_segmented():\n",
    "    GRAY_DIR.mkdir(parents=True, exist_ok=True)\n",
    "    SEG_DIR.mkdir(parents=True, exist_ok=True)\n",
    "\n",
    "    for img_path in tqdm(list(COLOR_DIR.glob(\"*.*\")), desc=\"Generating gray/segmented\"):\n",
    "        img_color = cv2.imread(str(img_path))\n",
    "        if img_color is None:\n",
    "            continue\n",
    "\n",
    "        # 1) Grayscale\n",
    "        img_gray = cv2.cvtColor(img_color, cv2.COLOR_BGR2GRAY)\n",
    "        cv2.imwrite(str(GRAY_DIR / img_path.name), img_gray)\n",
    "\n",
    "        # 2) Segmented: Otsu + контури\n",
    "        _, thresh = cv2.threshold(img_gray, 0, 255, cv2.THRESH_BINARY + cv2.THRESH_OTSU)\n",
    "        contours, _ = cv2.findContours(thresh, cv2.RETR_EXTERNAL, cv2.CHAIN_APPROX_SIMPLE)\n",
    "        seg_img = np.zeros_like(img_color)\n",
    "        cv2.drawContours(seg_img, contours, -1, (0,255,0), 2)\n",
    "        cv2.imwrite(str(SEG_DIR / img_path.name), seg_img)\n",
    "\n",
    "if __name__ == \"__main__\":\n",
    "    generate_gray_and_segmented()\n",
    "    print(\"✅ Gray and segmented images generated.\")\n"
   ]
  }
 ],
 "metadata": {
  "kernelspec": {
   "display_name": "venv",
   "language": "python",
   "name": "python3"
  },
  "language_info": {
   "codemirror_mode": {
    "name": "ipython",
    "version": 3
   },
   "file_extension": ".py",
   "mimetype": "text/x-python",
   "name": "python",
   "nbconvert_exporter": "python",
   "pygments_lexer": "ipython3",
   "version": "3.11.9"
  }
 },
 "nbformat": 4,
 "nbformat_minor": 5
}
