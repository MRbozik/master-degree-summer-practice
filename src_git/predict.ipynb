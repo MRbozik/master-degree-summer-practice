{
 "cells": [
  {
   "cell_type": "markdown",
   "id": "47edd0f8",
   "metadata": {},
   "source": [
    "Інференс на нових зображеннях:\n",
    "\n",
    "1.Завантаження збереженої моделі (.h5/SavedModel)\n",
    "\n",
    "2.Попередня обробка одного фото\n",
    "\n",
    "3.Виконання model.predict\n",
    "\n",
    "4.Вивід імені класу та впевненості, відображення зображення з підписом"
   ]
  },
  {
   "cell_type": "code",
   "execution_count": null,
   "id": "d407e446",
   "metadata": {},
   "outputs": [],
   "source": [
    "import numpy as np\n",
    "import cv2\n",
    "from pathlib import Path\n",
    "from tensorflow.keras.models import load_model\n",
    "\n",
    "def predict_image(model_path, img_path, class_labels, target_size=(224,224)):\n",
    "    \"\"\"\n",
    "    Завантажує модель та робить передбачення для одного зображення.\n",
    "    class_labels — список імен класів у порядку індексів.\n",
    "    \"\"\"\n",
    "    model = load_model(model_path)\n",
    "\n",
    "    img = cv2.imread(img_path)\n",
    "    img = cv2.cvtColor(img, cv2.COLOR_BGR2RGB)\n",
    "    img = cv2.resize(img, target_size)\n",
    "    img = img.astype(\"float32\") / 255.0\n",
    "    inp = np.expand_dims(img, axis=0)\n",
    "\n",
    "    preds = model.predict(inp)[0]\n",
    "    idx = np.argmax(preds)\n",
    "    label = class_labels[idx]\n",
    "    confidence = preds[idx]\n",
    "    return label, confidence\n",
    "\n",
    "def get_class_labels(train_dir_path):\n",
    "    \"\"\"\n",
    "    Зчитує назви підпапок у тренувальній директорії\n",
    "    і повертає їх у відсортованому порядку.\n",
    "    \"\"\"\n",
    "    train_dir = Path(train_dir_path)\n",
    "    labels = sorted([p.name for p in train_dir.iterdir() if p.is_dir()])\n",
    "    return labels\n",
    "\n",
    "if __name__ == \"__main__\":\n",
    "    # Шлях до папки з тренувальними даними\n",
    "    TRAIN_DIR = \"data/final/train\"\n",
    "\n",
    "    # Динамічно збираємо список класів\n",
    "    labels = get_class_labels(TRAIN_DIR)\n",
    "    print(\"Class labels:\", labels)\n",
    "\n",
    "    # Виконуємо передбачення\n",
    "    model_path = \"model.h5\"\n",
    "    test_image = \"data/test/test.jpg\"\n",
    "\n",
    "    label, conf = predict_image(model_path, test_image, class_labels=labels)\n",
    "    print(f\"Predicted: {label} ({conf*100:.2f}%)\")\n"
   ]
  }
 ],
 "metadata": {
  "kernelspec": {
   "display_name": "venv",
   "language": "python",
   "name": "python3"
  },
  "language_info": {
   "codemirror_mode": {
    "name": "ipython",
    "version": 3
   },
   "file_extension": ".py",
   "mimetype": "text/x-python",
   "name": "python",
   "nbconvert_exporter": "python",
   "pygments_lexer": "ipython3",
   "version": "3.11.9"
  }
 },
 "nbformat": 4,
 "nbformat_minor": 5
}
