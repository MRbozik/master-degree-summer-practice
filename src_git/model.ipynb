{
 "cells": [
  {
   "cell_type": "markdown",
   "id": "86402714",
   "metadata": {},
   "source": [
    "Побудова та компіляція нейромережі:\n",
    "\n",
    "1.Імпорт попередньо натренованої бази (MobileNetV2)\n",
    "\n",
    "2.Додавання шарів GlobalAveragePooling + Dense\n",
    "\n",
    "3.Замороження базових шарів\n",
    "\n",
    "4.Підготовка до тренування (optimizer, loss, метрики)"
   ]
  },
  {
   "cell_type": "code",
   "execution_count": null,
   "id": "d407e446",
   "metadata": {},
   "outputs": [],
   "source": [
    "from tensorflow.keras.applications import MobileNetV2\n",
    "from tensorflow.keras.layers import GlobalAveragePooling2D, Dense\n",
    "from tensorflow.keras.models import Model\n",
    "\n",
    "def create_model(num_classes, input_shape=(224,224,3), freeze_base=True):\n",
    "    base = MobileNetV2(weights=\"imagenet\", include_top=False, input_shape=input_shape)\n",
    "    if freeze_base:\n",
    "        for layer in base.layers:\n",
    "            layer.trainable = False\n",
    "\n",
    "    x = GlobalAveragePooling2D()(base.output)\n",
    "    out = Dense(num_classes, activation=\"softmax\")(x)\n",
    "    model = Model(inputs=base.input, outputs=out)\n",
    "    model.compile(optimizer=\"adam\",\n",
    "                  loss=\"categorical_crossentropy\",\n",
    "                  metrics=[\"accuracy\"])\n",
    "    return model\n",
    "\n",
    "if __name__ == \"__main__\":\n",
    "    m = create_model(num_classes=5)\n",
    "    m.summary()\n"
   ]
  }
 ],
 "metadata": {
  "kernelspec": {
   "display_name": "venv",
   "language": "python",
   "name": "python3"
  },
  "language_info": {
   "codemirror_mode": {
    "name": "ipython",
    "version": 3
   },
   "file_extension": ".py",
   "mimetype": "text/x-python",
   "name": "python",
   "nbconvert_exporter": "python",
   "pygments_lexer": "ipython3",
   "version": "3.11.9"
  }
 },
 "nbformat": 4,
 "nbformat_minor": 5
}
