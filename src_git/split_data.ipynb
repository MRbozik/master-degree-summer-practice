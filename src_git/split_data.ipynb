{
 "cells": [
  {
   "cell_type": "markdown",
   "id": "898384bb",
   "metadata": {},
   "source": [
    "Розбиває підготовлені зображення на тренувальну і валідаційну вибірки (80/20)"
   ]
  },
  {
   "cell_type": "code",
   "execution_count": null,
   "id": "d407e446",
   "metadata": {},
   "outputs": [],
   "source": [
    "import shutil\n",
    "from pathlib import Path\n",
    "from sklearn.model_selection import train_test_split\n",
    "\n",
    "def split_dataset(source_root=\"data/processed\",\n",
    "                  target_root=\"data/final\",\n",
    "                  val_ratio=0.2,\n",
    "                  seed=42):\n",
    "    \"\"\"\n",
    "    Бере підпапки в source_root (color, grayscale, segmented),\n",
    "    розбиває вміст кожної по класах на train/val та копіює в target_root.\n",
    "    \"\"\"\n",
    "    source_root = Path(source_root)\n",
    "    target_root = Path(target_root)\n",
    "\n",
    "    for split in (\"train\", \"val\"):\n",
    "        for t in source_root.iterdir():\n",
    "            (target_root / split / t.name).mkdir(parents=True, exist_ok=True)\n",
    "\n",
    "    for t in source_root.iterdir():\n",
    "        if not t.is_dir():\n",
    "            continue\n",
    "        for cls in (t).iterdir():\n",
    "            if not cls.is_dir():\n",
    "                continue\n",
    "            imgs = list(cls.glob(\"*.*\"))\n",
    "            train_imgs, val_imgs = train_test_split(imgs, test_size=val_ratio, random_state=seed)\n",
    "            for img in train_imgs:\n",
    "                shutil.copy(img, target_root / \"train\" / t.name / img.name)\n",
    "            for img in val_imgs:\n",
    "                shutil.copy(img, target_root / \"val\" / t.name / img.name)\n",
    "\n",
    "    print(f\"✅ Dataset split into train/val in {target_root}\")\n",
    "\n",
    "if __name__ == \"__main__\":\n",
    "    split_dataset()\n"
   ]
  }
 ],
 "metadata": {
  "kernelspec": {
   "display_name": "venv",
   "language": "python",
   "name": "python3"
  },
  "language_info": {
   "codemirror_mode": {
    "name": "ipython",
    "version": 3
   },
   "file_extension": ".py",
   "mimetype": "text/x-python",
   "name": "python",
   "nbconvert_exporter": "python",
   "pygments_lexer": "ipython3",
   "version": "3.11.9"
  }
 },
 "nbformat": 4,
 "nbformat_minor": 5
}
